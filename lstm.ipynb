{
  "cells": [
    {
      "cell_type": "code",
      "execution_count": 20,
      "metadata": {},
      "outputs": [
        {
          "name": "stdout",
          "output_type": "stream",
          "text": [
            "\n",
            "=== Training N=0 ===\n"
          ]
        },
        {
          "name": "stderr",
          "output_type": "stream",
          "text": [
            "Training N=0: 100%|██████████| 50/50 [00:55<00:00,  1.12s/it]\n"
          ]
        },
        {
          "name": "stdout",
          "output_type": "stream",
          "text": [
            "N=0 Final Accuracy: 0.9855\n",
            "\n",
            "=== Training N=1 ===\n"
          ]
        },
        {
          "name": "stderr",
          "output_type": "stream",
          "text": [
            "Training N=1: 100%|██████████| 50/50 [00:55<00:00,  1.10s/it]\n"
          ]
        },
        {
          "name": "stdout",
          "output_type": "stream",
          "text": [
            "N=1 Final Accuracy: 0.9920\n",
            "\n",
            "=== Training N=2 ===\n"
          ]
        },
        {
          "name": "stderr",
          "output_type": "stream",
          "text": [
            "Training N=2: 100%|██████████| 50/50 [00:53<00:00,  1.06s/it]\n"
          ]
        },
        {
          "name": "stdout",
          "output_type": "stream",
          "text": [
            "N=2 Final Accuracy: 0.9891\n",
            "\n",
            "=== Training N=3 ===\n"
          ]
        },
        {
          "name": "stderr",
          "output_type": "stream",
          "text": [
            "Training N=3: 100%|██████████| 50/50 [00:53<00:00,  1.07s/it]\n"
          ]
        },
        {
          "name": "stdout",
          "output_type": "stream",
          "text": [
            "N=3 Final Accuracy: 0.9793\n",
            "\n",
            "=== Training N=4 ===\n"
          ]
        },
        {
          "name": "stderr",
          "output_type": "stream",
          "text": [
            "Training N=4: 100%|██████████| 50/50 [00:51<00:00,  1.03s/it]\n"
          ]
        },
        {
          "name": "stdout",
          "output_type": "stream",
          "text": [
            "N=4 Final Accuracy: 0.9921\n",
            "\n",
            "=== Training N=5 ===\n"
          ]
        },
        {
          "name": "stderr",
          "output_type": "stream",
          "text": [
            "Training N=5: 100%|██████████| 50/50 [00:55<00:00,  1.11s/it]\n"
          ]
        },
        {
          "name": "stdout",
          "output_type": "stream",
          "text": [
            "N=5 Final Accuracy: 0.9588\n",
            "\n",
            "=== Training N=6 ===\n"
          ]
        },
        {
          "name": "stderr",
          "output_type": "stream",
          "text": [
            "Training N=6: 100%|██████████| 50/50 [00:55<00:00,  1.10s/it]\n"
          ]
        },
        {
          "name": "stdout",
          "output_type": "stream",
          "text": [
            "N=6 Final Accuracy: 0.2880\n",
            "\n",
            "=== Training N=7 ===\n"
          ]
        },
        {
          "name": "stderr",
          "output_type": "stream",
          "text": [
            "Training N=7: 100%|██████████| 50/50 [00:50<00:00,  1.01s/it]\n"
          ]
        },
        {
          "name": "stdout",
          "output_type": "stream",
          "text": [
            "N=7 Final Accuracy: 0.2577\n",
            "\n",
            "=== Training N=8 ===\n"
          ]
        },
        {
          "name": "stderr",
          "output_type": "stream",
          "text": [
            "Training N=8: 100%|██████████| 50/50 [00:49<00:00,  1.01it/s]\n"
          ]
        },
        {
          "name": "stdout",
          "output_type": "stream",
          "text": [
            "N=8 Final Accuracy: 0.2453\n",
            "\n",
            "=== Training N=9 ===\n"
          ]
        },
        {
          "name": "stderr",
          "output_type": "stream",
          "text": [
            "Training N=9: 100%|██████████| 50/50 [00:49<00:00,  1.00it/s]\n"
          ]
        },
        {
          "name": "stdout",
          "output_type": "stream",
          "text": [
            "N=9 Final Accuracy: 0.2555\n",
            "\n",
            "=== Training N=10 ===\n"
          ]
        },
        {
          "name": "stderr",
          "output_type": "stream",
          "text": [
            "Training N=10: 100%|██████████| 50/50 [00:52<00:00,  1.05s/it]\n"
          ]
        },
        {
          "name": "stdout",
          "output_type": "stream",
          "text": [
            "N=10 Final Accuracy: 0.2322\n"
          ]
        },
        {
          "data": {
            "image/png": "[encoded data removed]",
            "text/plain": [
              "<Figure size 1000x500 with 1 Axes>"
            ]
          },
          "metadata": {},
          "output_type": "display_data"
        }
      ],
      "source": [
        "import numpy as np\n",
        "import torch\n",
        "import torch.nn as nn\n",
        "import torch.optim as optim\n",
        "from torch.utils.data import Dataset, DataLoader\n",
        "import matplotlib.pyplot as plt\n",
        "from tqdm import trange\n",
        "import torch.nn.functional as F\n",
        "\n",
        "from n_back_spatial_task import (  \n",
        "    sample_n_back_spatial,\n",
        "    create_n_back_dataset,\n",
        "    NBackDataset as ColleagueNBackDataset,\n",
        "    idx2mov,\n",
        "    loc2idx,\n",
        "    idx2loc\n",
        ")\n",
        "\n",
        "SEED = 42\n",
        "torch.manual_seed(SEED)\n",
        "np.random.seed(SEED)\n",
        "if torch.cuda.is_available():\n",
        "    torch.cuda.manual_seed_all(SEED)  \n",
        "\n",
        "#--Configuration--\n",
        "GRID_SIZE = np.array([5, 5], dtype=int)  \n",
        "HIDDEN_SIZE = 128\n",
        "INPUT_SIZE = 4 \n",
        "OUTPUT_SIZE = GRID_SIZE[0] * GRID_SIZE[1] \n",
        "DEVICE = torch.device(\"mps\" if torch.backends.mps.is_available() else \"cpu\")  \n",
        "SEQ_LENGTH = 50  \n",
        "BATCH_SIZE = 100\n",
        "LEARNING_RATE = 0.0005\n",
        "EPOCHS = 50\n",
        "BOUNDARY = 'strict'  \n",
        "\n",
        "\n",
        "class NBackDataset(ColleagueNBackDataset):  # Inherit from Italo's class\n",
        "    def __init__(self, num_samples, n_back):\n",
        "        # Using Italo's create_n_back_dataset function\n",
        "        dataset = create_n_back_dataset(\n",
        "            num_samples=num_samples,\n",
        "            n=n_back,\n",
        "            max_length=SEQ_LENGTH,\n",
        "            grid_size=GRID_SIZE,\n",
        "            boundary=BOUNDARY\n",
        "        )\n",
        "        super().__init__(dataset.x, dataset.y)\n",
        "\n",
        "class NBackLSTM(nn.Module):\n",
        "    def __init__(self):\n",
        "        super().__init__()\n",
        "        self.lstm = nn.LSTM(\n",
        "            input_size=4,\n",
        "            hidden_size=HIDDEN_SIZE,\n",
        "            num_layers=1,\n",
        "            batch_first=True\n",
        "        )\n",
        "        self.fc = nn.Sequential(\n",
        "            nn.Linear(HIDDEN_SIZE, HIDDEN_SIZE),\n",
        "            nn.ReLU(),\n",
        "            nn.Dropout(0.2),\n",
        "            nn.Linear(HIDDEN_SIZE, OUTPUT_SIZE)\n",
        "        )\n",
        "        \n",
        "        self.h0 = nn.Parameter(torch.randn(1, 1, HIDDEN_SIZE) * 0.05)\n",
        "        self.c0 = nn.Parameter(torch.randn(1, 1, HIDDEN_SIZE) * 0.05)\n",
        "        \n",
        "    def forward(self, x, batch_size):\n",
        "        x = F.one_hot(x, num_classes=4).float().to(DEVICE)\n",
        "        h0 = self.h0.expand(1, batch_size, -1).contiguous()\n",
        "        c0 = self.c0.expand(1, batch_size, -1).contiguous()\n",
        "        out, _ = self.lstm(x, (h0, c0))\n",
        "        return self.fc(out)\n",
        "\n",
        "class NBackTrainer:\n",
        "    def __init__(self, n_back):\n",
        "        self.n_back = n_back\n",
        "        self.model = NBackLSTM().to(DEVICE)\n",
        "        self.optimizer = optim.AdamW(self.model.parameters(), lr=LEARNING_RATE)\n",
        "        self.criterion = nn.CrossEntropyLoss()\n",
        "        \n",
        "    def train(self, epochs=EPOCHS):\n",
        "        train_loader = DataLoader(\n",
        "            NBackDataset(10_000, self.n_back),\n",
        "            batch_size=BATCH_SIZE,\n",
        "            shuffle=True\n",
        "        )\n",
        "        \n",
        "        self.model.train()\n",
        "        for epoch in trange(epochs, desc=f\"Training N={self.n_back}\"):\n",
        "            total_loss = 0\n",
        "            for actions, targets in train_loader:\n",
        "                actions, targets = actions.to(DEVICE), targets.to(DEVICE)\n",
        "                batch_size = actions.size(0)\n",
        "                \n",
        "                self.optimizer.zero_grad()\n",
        "                logits = self.model(actions, batch_size)\n",
        "                \n",
        "                loss = self.criterion(\n",
        "                    logits[:, self.n_back:].reshape(-1, OUTPUT_SIZE),  # Predictions from step n onward\n",
        "                    targets.reshape(-1))  \n",
        "                \n",
        "                loss.backward()\n",
        "                torch.nn.utils.clip_grad_norm_(self.model.parameters(), 1.0)\n",
        "                self.optimizer.step()\n",
        "                total_loss += loss.item()\n",
        "    \n",
        "    def evaluate(self, test_samples=1_000):\n",
        "        test_loader = DataLoader(\n",
        "            NBackDataset(test_samples, self.n_back),\n",
        "            batch_size=BATCH_SIZE\n",
        "        )\n",
        "        \n",
        "        self.model.eval()\n",
        "        correct = total = 0\n",
        "        with torch.no_grad():\n",
        "            for actions, targets in test_loader:\n",
        "                actions, targets = actions.to(DEVICE), targets.to(DEVICE)\n",
        "                batch_size = actions.size(0)\n",
        "                logits = self.model(actions, batch_size)\n",
        "                \n",
        "                preds = logits[:, self.n_back:].argmax(-1)\n",
        "                tgts = targets\n",
        "                \n",
        "                correct += (preds == tgts).sum().item()\n",
        "                total += tgts.numel()\n",
        "                \n",
        "        return correct / total if total > 0 else 0\n",
        "\n",
        "def run_experiment(max_n=10):\n",
        "    accuracies = []\n",
        "    for N in range(max_n + 1):\n",
        "        print(f\"\\n=== Training N={N} ===\")\n",
        "        trainer = NBackTrainer(N)\n",
        "        trainer.train()\n",
        "        \n",
        "        # Evaluate 3 times for stability\n",
        "        eval_acc = np.mean([trainer.evaluate() for _ in range(3)])\n",
        "        accuracies.append(eval_acc)\n",
        "        print(f\"N={N} Final Accuracy: {eval_acc:.4f}\")\n",
        "        \n",
        "    return accuracies\n",
        "\n",
        "# Run experiment\n",
        "accuracies = run_experiment()\n",
        "\n",
        "# Plot results\n",
        "plt.figure(figsize=(10, 5))\n",
        "plt.plot(range(len(accuracies)), accuracies, marker='o', linewidth=2, markersize=8)\n",
        "plt.xlabel(\"N-back level\", fontsize=12)\n",
        "plt.ylabel(\"Accuracy\", fontsize=12)\n",
        "plt.xticks(range(len(accuracies)))\n",
        "plt.grid(True, linestyle='--', alpha=0.7)\n",
        "plt.ylim(0, 1.05)\n",
        "plt.tight_layout()\n",
        "plt.show()"
      ]
    }
  ],
  "metadata": {
    "colab": {
      "provenance": []
    },
    "kernelspec": {
      "display_name": ".conda",
      "language": "python",
      "name": "python3"
    },
    "language_info": {
      "codemirror_mode": {
        "name": "ipython",
        "version": 3
      },
      "file_extension": ".py",
      "mimetype": "text/x-python",
      "name": "python",
      "nbconvert_exporter": "python",
      "pygments_lexer": "ipython3",
      "version": "3.11.9"
    }
  },
  "nbformat": 4,
  "nbformat_minor": 0
}
