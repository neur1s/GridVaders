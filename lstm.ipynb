{
  "cells": [
    {
      "cell_type": "code",
      "execution_count": 13,
      "metadata": {},
      "outputs": [
        {
          "name": "stdout",
          "output_type": "stream",
          "text": [
            "\n",
            "=== Training N=0 ===\n"
          ]
        },
        {
          "name": "stderr",
          "output_type": "stream",
          "text": [
            "Training N=0:   2%|▏         | 1/50 [00:02<01:51,  2.27s/it]"
          ]
        },
        {
          "name": "stdout",
          "output_type": "stream",
          "text": [
            "Epoch 0: Loss=3.1787, Val Acc=0.1881\n"
          ]
        },
        {
          "name": "stderr",
          "output_type": "stream",
          "text": [
            "Training N=0:  12%|█▏        | 6/50 [00:04<00:28,  1.52it/s]"
          ]
        },
        {
          "name": "stdout",
          "output_type": "stream",
          "text": [
            "Epoch 5: Loss=1.6719, Val Acc=0.5728\n"
          ]
        },
        {
          "name": "stderr",
          "output_type": "stream",
          "text": [
            "Training N=0:  22%|██▏       | 11/50 [00:06<00:21,  1.79it/s]"
          ]
        },
        {
          "name": "stdout",
          "output_type": "stream",
          "text": [
            "Epoch 10: Loss=1.2308, Val Acc=0.6567\n"
          ]
        },
        {
          "name": "stderr",
          "output_type": "stream",
          "text": [
            "Training N=0:  32%|███▏      | 16/50 [00:09<00:18,  1.80it/s]"
          ]
        },
        {
          "name": "stdout",
          "output_type": "stream",
          "text": [
            "Epoch 15: Loss=1.0598, Val Acc=0.8283\n"
          ]
        },
        {
          "name": "stderr",
          "output_type": "stream",
          "text": [
            "Training N=0:  42%|████▏     | 21/50 [00:11<00:16,  1.71it/s]"
          ]
        },
        {
          "name": "stdout",
          "output_type": "stream",
          "text": [
            "Epoch 20: Loss=0.8921, Val Acc=0.7716\n"
          ]
        },
        {
          "name": "stderr",
          "output_type": "stream",
          "text": [
            "Training N=0:  52%|█████▏    | 26/50 [00:14<00:12,  1.85it/s]"
          ]
        },
        {
          "name": "stdout",
          "output_type": "stream",
          "text": [
            "Epoch 25: Loss=0.5934, Val Acc=0.9032\n"
          ]
        },
        {
          "name": "stderr",
          "output_type": "stream",
          "text": [
            "Training N=0:  62%|██████▏   | 31/50 [00:16<00:12,  1.58it/s]"
          ]
        },
        {
          "name": "stdout",
          "output_type": "stream",
          "text": [
            "Epoch 30: Loss=0.4227, Val Acc=0.8977\n"
          ]
        },
        {
          "name": "stderr",
          "output_type": "stream",
          "text": [
            "Training N=0:  72%|███████▏  | 36/50 [00:18<00:07,  1.78it/s]"
          ]
        },
        {
          "name": "stdout",
          "output_type": "stream",
          "text": [
            "Epoch 35: Loss=0.4250, Val Acc=0.7823\n"
          ]
        },
        {
          "name": "stderr",
          "output_type": "stream",
          "text": [
            "Training N=0:  82%|████████▏ | 41/50 [00:21<00:05,  1.79it/s]"
          ]
        },
        {
          "name": "stdout",
          "output_type": "stream",
          "text": [
            "Epoch 40: Loss=0.3506, Val Acc=0.9596\n"
          ]
        },
        {
          "name": "stderr",
          "output_type": "stream",
          "text": [
            "Training N=0:  92%|█████████▏| 46/50 [00:23<00:02,  1.83it/s]"
          ]
        },
        {
          "name": "stdout",
          "output_type": "stream",
          "text": [
            "Epoch 45: Loss=0.2185, Val Acc=0.9645\n"
          ]
        },
        {
          "name": "stderr",
          "output_type": "stream",
          "text": [
            "Training N=0: 100%|██████████| 50/50 [00:25<00:00,  2.00it/s]\n"
          ]
        },
        {
          "name": "stdout",
          "output_type": "stream",
          "text": [
            "N=0 Final Accuracy: 0.9284\n",
            "\n",
            "=== Training N=1 ===\n"
          ]
        },
        {
          "name": "stderr",
          "output_type": "stream",
          "text": [
            "Training N=1:   2%|▏         | 1/50 [00:00<00:48,  1.00it/s]"
          ]
        },
        {
          "name": "stdout",
          "output_type": "stream",
          "text": [
            "Epoch 0: Loss=3.1865, Val Acc=0.1657\n"
          ]
        },
        {
          "name": "stderr",
          "output_type": "stream",
          "text": [
            "Training N=1:  12%|█▏        | 6/50 [00:03<00:24,  1.78it/s]"
          ]
        },
        {
          "name": "stdout",
          "output_type": "stream",
          "text": [
            "Epoch 5: Loss=1.7518, Val Acc=0.5255\n"
          ]
        },
        {
          "name": "stderr",
          "output_type": "stream",
          "text": [
            "Training N=1:  22%|██▏       | 11/50 [00:05<00:22,  1.74it/s]"
          ]
        },
        {
          "name": "stdout",
          "output_type": "stream",
          "text": [
            "Epoch 10: Loss=1.4194, Val Acc=0.6611\n"
          ]
        },
        {
          "name": "stderr",
          "output_type": "stream",
          "text": [
            "Training N=1:  32%|███▏      | 16/50 [00:08<00:19,  1.76it/s]"
          ]
        },
        {
          "name": "stdout",
          "output_type": "stream",
          "text": [
            "Epoch 15: Loss=0.9900, Val Acc=0.7487\n"
          ]
        },
        {
          "name": "stderr",
          "output_type": "stream",
          "text": [
            "Training N=1:  42%|████▏     | 21/50 [00:10<00:16,  1.81it/s]"
          ]
        },
        {
          "name": "stdout",
          "output_type": "stream",
          "text": [
            "Epoch 20: Loss=0.7669, Val Acc=0.8824\n"
          ]
        },
        {
          "name": "stderr",
          "output_type": "stream",
          "text": [
            "Training N=1:  52%|█████▏    | 26/50 [00:12<00:12,  1.85it/s]"
          ]
        },
        {
          "name": "stdout",
          "output_type": "stream",
          "text": [
            "Epoch 25: Loss=0.5775, Val Acc=0.7998\n"
          ]
        },
        {
          "name": "stderr",
          "output_type": "stream",
          "text": [
            "Training N=1:  62%|██████▏   | 31/50 [00:15<00:10,  1.78it/s]"
          ]
        },
        {
          "name": "stdout",
          "output_type": "stream",
          "text": [
            "Epoch 30: Loss=0.4541, Val Acc=0.9078\n"
          ]
        },
        {
          "name": "stderr",
          "output_type": "stream",
          "text": [
            "Training N=1:  72%|███████▏  | 36/50 [00:17<00:08,  1.72it/s]"
          ]
        },
        {
          "name": "stdout",
          "output_type": "stream",
          "text": [
            "Epoch 35: Loss=0.4183, Val Acc=0.8921\n"
          ]
        },
        {
          "name": "stderr",
          "output_type": "stream",
          "text": [
            "Training N=1:  82%|████████▏ | 41/50 [00:20<00:05,  1.63it/s]"
          ]
        },
        {
          "name": "stdout",
          "output_type": "stream",
          "text": [
            "Epoch 40: Loss=0.4024, Val Acc=0.8937\n"
          ]
        },
        {
          "name": "stderr",
          "output_type": "stream",
          "text": [
            "Training N=1:  92%|█████████▏| 46/50 [00:22<00:02,  1.65it/s]"
          ]
        },
        {
          "name": "stdout",
          "output_type": "stream",
          "text": [
            "Epoch 45: Loss=0.2829, Val Acc=0.9568\n"
          ]
        },
        {
          "name": "stderr",
          "output_type": "stream",
          "text": [
            "Training N=1: 100%|██████████| 50/50 [00:24<00:00,  2.07it/s]\n"
          ]
        },
        {
          "name": "stdout",
          "output_type": "stream",
          "text": [
            "N=1 Final Accuracy: 0.8934\n",
            "\n",
            "=== Training N=2 ===\n"
          ]
        },
        {
          "name": "stderr",
          "output_type": "stream",
          "text": [
            "Training N=2:   2%|▏         | 1/50 [00:00<00:48,  1.00it/s]"
          ]
        },
        {
          "name": "stdout",
          "output_type": "stream",
          "text": [
            "Epoch 0: Loss=3.1772, Val Acc=0.1747\n"
          ]
        },
        {
          "name": "stderr",
          "output_type": "stream",
          "text": [
            "Training N=2:  12%|█▏        | 6/50 [00:03<00:27,  1.61it/s]"
          ]
        },
        {
          "name": "stdout",
          "output_type": "stream",
          "text": [
            "Epoch 5: Loss=1.8331, Val Acc=0.3920\n"
          ]
        },
        {
          "name": "stderr",
          "output_type": "stream",
          "text": [
            "Training N=2:  22%|██▏       | 11/50 [00:05<00:23,  1.68it/s]"
          ]
        },
        {
          "name": "stdout",
          "output_type": "stream",
          "text": [
            "Epoch 10: Loss=1.1600, Val Acc=0.6772\n"
          ]
        },
        {
          "name": "stderr",
          "output_type": "stream",
          "text": [
            "Training N=2:  32%|███▏      | 16/50 [00:08<00:20,  1.70it/s]"
          ]
        },
        {
          "name": "stdout",
          "output_type": "stream",
          "text": [
            "Epoch 15: Loss=0.9221, Val Acc=0.6851\n"
          ]
        },
        {
          "name": "stderr",
          "output_type": "stream",
          "text": [
            "Training N=2:  42%|████▏     | 21/50 [00:10<00:16,  1.80it/s]"
          ]
        },
        {
          "name": "stdout",
          "output_type": "stream",
          "text": [
            "Epoch 20: Loss=0.6162, Val Acc=0.8671\n"
          ]
        },
        {
          "name": "stderr",
          "output_type": "stream",
          "text": [
            "Training N=2:  52%|█████▏    | 26/50 [00:13<00:14,  1.70it/s]"
          ]
        },
        {
          "name": "stdout",
          "output_type": "stream",
          "text": [
            "Epoch 25: Loss=0.5550, Val Acc=0.7602\n"
          ]
        },
        {
          "name": "stderr",
          "output_type": "stream",
          "text": [
            "Training N=2:  62%|██████▏   | 31/50 [00:15<00:10,  1.80it/s]"
          ]
        },
        {
          "name": "stdout",
          "output_type": "stream",
          "text": [
            "Epoch 30: Loss=0.4270, Val Acc=0.8679\n"
          ]
        },
        {
          "name": "stderr",
          "output_type": "stream",
          "text": [
            "Training N=2:  72%|███████▏  | 36/50 [00:17<00:07,  1.84it/s]"
          ]
        },
        {
          "name": "stdout",
          "output_type": "stream",
          "text": [
            "Epoch 35: Loss=0.4605, Val Acc=0.8456\n"
          ]
        },
        {
          "name": "stderr",
          "output_type": "stream",
          "text": [
            "Training N=2:  82%|████████▏ | 41/50 [00:20<00:05,  1.78it/s]"
          ]
        },
        {
          "name": "stdout",
          "output_type": "stream",
          "text": [
            "Epoch 40: Loss=0.3796, Val Acc=0.8411\n"
          ]
        },
        {
          "name": "stderr",
          "output_type": "stream",
          "text": [
            "Training N=2:  92%|█████████▏| 46/50 [00:22<00:02,  1.80it/s]"
          ]
        },
        {
          "name": "stdout",
          "output_type": "stream",
          "text": [
            "Epoch 45: Loss=0.3094, Val Acc=0.9058\n"
          ]
        },
        {
          "name": "stderr",
          "output_type": "stream",
          "text": [
            "Training N=2: 100%|██████████| 50/50 [00:24<00:00,  2.07it/s]\n"
          ]
        },
        {
          "name": "stdout",
          "output_type": "stream",
          "text": [
            "N=2 Final Accuracy: 0.9730\n",
            "\n",
            "=== Training N=3 ===\n"
          ]
        },
        {
          "name": "stderr",
          "output_type": "stream",
          "text": [
            "Training N=3:   2%|▏         | 1/50 [00:01<00:48,  1.00it/s]"
          ]
        },
        {
          "name": "stdout",
          "output_type": "stream",
          "text": [
            "Epoch 0: Loss=3.1801, Val Acc=0.1763\n"
          ]
        },
        {
          "name": "stderr",
          "output_type": "stream",
          "text": [
            "Training N=3:  12%|█▏        | 6/50 [00:03<00:24,  1.77it/s]"
          ]
        },
        {
          "name": "stdout",
          "output_type": "stream",
          "text": [
            "Epoch 5: Loss=1.7597, Val Acc=0.4893\n"
          ]
        },
        {
          "name": "stderr",
          "output_type": "stream",
          "text": [
            "Training N=3:  22%|██▏       | 11/50 [00:05<00:21,  1.82it/s]"
          ]
        },
        {
          "name": "stdout",
          "output_type": "stream",
          "text": [
            "Epoch 10: Loss=1.1879, Val Acc=0.7429\n"
          ]
        },
        {
          "name": "stderr",
          "output_type": "stream",
          "text": [
            "Training N=3:  32%|███▏      | 16/50 [00:07<00:18,  1.79it/s]"
          ]
        },
        {
          "name": "stdout",
          "output_type": "stream",
          "text": [
            "Epoch 15: Loss=0.8955, Val Acc=0.7557\n"
          ]
        },
        {
          "name": "stderr",
          "output_type": "stream",
          "text": [
            "Training N=3:  42%|████▏     | 21/50 [00:10<00:16,  1.74it/s]"
          ]
        },
        {
          "name": "stdout",
          "output_type": "stream",
          "text": [
            "Epoch 20: Loss=0.7913, Val Acc=0.7242\n"
          ]
        },
        {
          "name": "stderr",
          "output_type": "stream",
          "text": [
            "Training N=3:  52%|█████▏    | 26/50 [00:12<00:13,  1.78it/s]"
          ]
        },
        {
          "name": "stdout",
          "output_type": "stream",
          "text": [
            "Epoch 25: Loss=0.6556, Val Acc=0.8496\n"
          ]
        },
        {
          "name": "stderr",
          "output_type": "stream",
          "text": [
            "Training N=3:  62%|██████▏   | 31/50 [00:15<00:10,  1.83it/s]"
          ]
        },
        {
          "name": "stdout",
          "output_type": "stream",
          "text": [
            "Epoch 30: Loss=0.5692, Val Acc=0.7996\n"
          ]
        },
        {
          "name": "stderr",
          "output_type": "stream",
          "text": [
            "Training N=3:  72%|███████▏  | 36/50 [00:17<00:08,  1.73it/s]"
          ]
        },
        {
          "name": "stdout",
          "output_type": "stream",
          "text": [
            "Epoch 35: Loss=0.3651, Val Acc=0.8546\n"
          ]
        },
        {
          "name": "stderr",
          "output_type": "stream",
          "text": [
            "Training N=3:  82%|████████▏ | 41/50 [00:19<00:05,  1.75it/s]"
          ]
        },
        {
          "name": "stdout",
          "output_type": "stream",
          "text": [
            "Epoch 40: Loss=0.3611, Val Acc=0.8337\n"
          ]
        },
        {
          "name": "stderr",
          "output_type": "stream",
          "text": [
            "Training N=3:  92%|█████████▏| 46/50 [00:22<00:02,  1.66it/s]"
          ]
        },
        {
          "name": "stdout",
          "output_type": "stream",
          "text": [
            "Epoch 45: Loss=0.3520, Val Acc=0.8418\n"
          ]
        },
        {
          "name": "stderr",
          "output_type": "stream",
          "text": [
            "Training N=3: 100%|██████████| 50/50 [00:23<00:00,  2.08it/s]\n"
          ]
        },
        {
          "name": "stdout",
          "output_type": "stream",
          "text": [
            "N=3 Final Accuracy: 0.9206\n",
            "\n",
            "=== Training N=4 ===\n"
          ]
        },
        {
          "name": "stderr",
          "output_type": "stream",
          "text": [
            "Training N=4:   2%|▏         | 1/50 [00:00<00:48,  1.01it/s]"
          ]
        },
        {
          "name": "stdout",
          "output_type": "stream",
          "text": [
            "Epoch 0: Loss=3.1753, Val Acc=0.1561\n"
          ]
        },
        {
          "name": "stderr",
          "output_type": "stream",
          "text": [
            "Training N=4:  12%|█▏        | 6/50 [00:03<00:25,  1.73it/s]"
          ]
        },
        {
          "name": "stdout",
          "output_type": "stream",
          "text": [
            "Epoch 5: Loss=1.7466, Val Acc=0.4051\n"
          ]
        },
        {
          "name": "stderr",
          "output_type": "stream",
          "text": [
            "Training N=4:  22%|██▏       | 11/50 [00:05<00:21,  1.83it/s]"
          ]
        },
        {
          "name": "stdout",
          "output_type": "stream",
          "text": [
            "Epoch 10: Loss=1.2524, Val Acc=0.7120\n"
          ]
        },
        {
          "name": "stderr",
          "output_type": "stream",
          "text": [
            "Training N=4:  32%|███▏      | 16/50 [00:08<00:19,  1.72it/s]"
          ]
        },
        {
          "name": "stdout",
          "output_type": "stream",
          "text": [
            "Epoch 15: Loss=0.8467, Val Acc=0.7021\n"
          ]
        },
        {
          "name": "stderr",
          "output_type": "stream",
          "text": [
            "Training N=4:  42%|████▏     | 21/50 [00:10<00:16,  1.71it/s]"
          ]
        },
        {
          "name": "stdout",
          "output_type": "stream",
          "text": [
            "Epoch 20: Loss=0.8022, Val Acc=0.7241\n"
          ]
        },
        {
          "name": "stderr",
          "output_type": "stream",
          "text": [
            "Training N=4:  52%|█████▏    | 26/50 [00:13<00:14,  1.64it/s]"
          ]
        },
        {
          "name": "stdout",
          "output_type": "stream",
          "text": [
            "Epoch 25: Loss=0.5315, Val Acc=0.8620\n"
          ]
        },
        {
          "name": "stderr",
          "output_type": "stream",
          "text": [
            "Training N=4:  62%|██████▏   | 31/50 [00:15<00:11,  1.69it/s]"
          ]
        },
        {
          "name": "stdout",
          "output_type": "stream",
          "text": [
            "Epoch 30: Loss=0.5499, Val Acc=0.8504\n"
          ]
        },
        {
          "name": "stderr",
          "output_type": "stream",
          "text": [
            "Training N=4:  72%|███████▏  | 36/50 [00:18<00:07,  1.77it/s]"
          ]
        },
        {
          "name": "stdout",
          "output_type": "stream",
          "text": [
            "Epoch 35: Loss=0.4549, Val Acc=0.9633\n"
          ]
        },
        {
          "name": "stderr",
          "output_type": "stream",
          "text": [
            "Training N=4:  82%|████████▏ | 41/50 [00:20<00:05,  1.72it/s]"
          ]
        },
        {
          "name": "stdout",
          "output_type": "stream",
          "text": [
            "Epoch 40: Loss=0.2819, Val Acc=0.9223\n"
          ]
        },
        {
          "name": "stderr",
          "output_type": "stream",
          "text": [
            "Training N=4:  92%|█████████▏| 46/50 [00:23<00:02,  1.72it/s]"
          ]
        },
        {
          "name": "stdout",
          "output_type": "stream",
          "text": [
            "Epoch 45: Loss=0.2729, Val Acc=0.9233\n"
          ]
        },
        {
          "name": "stderr",
          "output_type": "stream",
          "text": [
            "Training N=4: 100%|██████████| 50/50 [00:24<00:00,  2.03it/s]\n"
          ]
        },
        {
          "name": "stdout",
          "output_type": "stream",
          "text": [
            "N=4 Final Accuracy: 0.7455\n",
            "\n",
            "=== Training N=5 ===\n"
          ]
        },
        {
          "name": "stderr",
          "output_type": "stream",
          "text": [
            "Training N=5:   2%|▏         | 1/50 [00:01<00:51,  1.06s/it]"
          ]
        },
        {
          "name": "stdout",
          "output_type": "stream",
          "text": [
            "Epoch 0: Loss=3.1758, Val Acc=0.1710\n"
          ]
        },
        {
          "name": "stderr",
          "output_type": "stream",
          "text": [
            "Training N=5:  12%|█▏        | 6/50 [00:03<00:26,  1.64it/s]"
          ]
        },
        {
          "name": "stdout",
          "output_type": "stream",
          "text": [
            "Epoch 5: Loss=1.7465, Val Acc=0.4365\n"
          ]
        },
        {
          "name": "stderr",
          "output_type": "stream",
          "text": [
            "Training N=5:  22%|██▏       | 11/50 [00:05<00:21,  1.79it/s]"
          ]
        },
        {
          "name": "stdout",
          "output_type": "stream",
          "text": [
            "Epoch 10: Loss=1.3108, Val Acc=0.5499\n"
          ]
        },
        {
          "name": "stderr",
          "output_type": "stream",
          "text": [
            "Training N=5:  32%|███▏      | 16/50 [00:08<00:19,  1.73it/s]"
          ]
        },
        {
          "name": "stdout",
          "output_type": "stream",
          "text": [
            "Epoch 15: Loss=1.0376, Val Acc=0.7200\n"
          ]
        },
        {
          "name": "stderr",
          "output_type": "stream",
          "text": [
            "Training N=5:  42%|████▏     | 21/50 [00:10<00:17,  1.70it/s]"
          ]
        },
        {
          "name": "stdout",
          "output_type": "stream",
          "text": [
            "Epoch 20: Loss=0.8178, Val Acc=0.8146\n"
          ]
        },
        {
          "name": "stderr",
          "output_type": "stream",
          "text": [
            "Training N=5:  52%|█████▏    | 26/50 [00:13<00:13,  1.76it/s]"
          ]
        },
        {
          "name": "stdout",
          "output_type": "stream",
          "text": [
            "Epoch 25: Loss=0.5661, Val Acc=0.8149\n"
          ]
        },
        {
          "name": "stderr",
          "output_type": "stream",
          "text": [
            "Training N=5:  62%|██████▏   | 31/50 [00:15<00:11,  1.66it/s]"
          ]
        },
        {
          "name": "stdout",
          "output_type": "stream",
          "text": [
            "Epoch 30: Loss=0.9895, Val Acc=0.7660\n"
          ]
        },
        {
          "name": "stderr",
          "output_type": "stream",
          "text": [
            "Training N=5:  72%|███████▏  | 36/50 [00:18<00:08,  1.69it/s]"
          ]
        },
        {
          "name": "stdout",
          "output_type": "stream",
          "text": [
            "Epoch 35: Loss=0.4889, Val Acc=0.8927\n"
          ]
        },
        {
          "name": "stderr",
          "output_type": "stream",
          "text": [
            "Training N=5:  82%|████████▏ | 41/50 [00:20<00:05,  1.71it/s]"
          ]
        },
        {
          "name": "stdout",
          "output_type": "stream",
          "text": [
            "Epoch 40: Loss=0.4617, Val Acc=0.9042\n"
          ]
        },
        {
          "name": "stderr",
          "output_type": "stream",
          "text": [
            "Training N=5:  92%|█████████▏| 46/50 [00:23<00:02,  1.71it/s]"
          ]
        },
        {
          "name": "stdout",
          "output_type": "stream",
          "text": [
            "Epoch 45: Loss=0.3959, Val Acc=0.8496\n"
          ]
        },
        {
          "name": "stderr",
          "output_type": "stream",
          "text": [
            "Training N=5: 100%|██████████| 50/50 [00:24<00:00,  2.01it/s]\n"
          ]
        },
        {
          "name": "stdout",
          "output_type": "stream",
          "text": [
            "N=5 Final Accuracy: 0.9325\n",
            "\n",
            "=== Training N=6 ===\n"
          ]
        },
        {
          "name": "stderr",
          "output_type": "stream",
          "text": [
            "Training N=6:   2%|▏         | 1/50 [00:01<00:50,  1.04s/it]"
          ]
        },
        {
          "name": "stdout",
          "output_type": "stream",
          "text": [
            "Epoch 0: Loss=3.1834, Val Acc=0.1465\n"
          ]
        },
        {
          "name": "stderr",
          "output_type": "stream",
          "text": [
            "Training N=6:  12%|█▏        | 6/50 [00:03<00:25,  1.72it/s]"
          ]
        },
        {
          "name": "stdout",
          "output_type": "stream",
          "text": [
            "Epoch 5: Loss=1.7646, Val Acc=0.4910\n"
          ]
        },
        {
          "name": "stderr",
          "output_type": "stream",
          "text": [
            "Training N=6:  22%|██▏       | 11/50 [00:05<00:21,  1.80it/s]"
          ]
        },
        {
          "name": "stdout",
          "output_type": "stream",
          "text": [
            "Epoch 10: Loss=1.2726, Val Acc=0.6473\n"
          ]
        },
        {
          "name": "stderr",
          "output_type": "stream",
          "text": [
            "Training N=6:  32%|███▏      | 16/50 [00:08<00:18,  1.81it/s]"
          ]
        },
        {
          "name": "stdout",
          "output_type": "stream",
          "text": [
            "Epoch 15: Loss=0.9311, Val Acc=0.8170\n"
          ]
        },
        {
          "name": "stderr",
          "output_type": "stream",
          "text": [
            "Training N=6:  42%|████▏     | 21/50 [00:10<00:16,  1.72it/s]"
          ]
        },
        {
          "name": "stdout",
          "output_type": "stream",
          "text": [
            "Epoch 20: Loss=0.9758, Val Acc=0.7495\n"
          ]
        },
        {
          "name": "stderr",
          "output_type": "stream",
          "text": [
            "Training N=6:  52%|█████▏    | 26/50 [00:12<00:13,  1.80it/s]"
          ]
        },
        {
          "name": "stdout",
          "output_type": "stream",
          "text": [
            "Epoch 25: Loss=0.7241, Val Acc=0.8810\n"
          ]
        },
        {
          "name": "stderr",
          "output_type": "stream",
          "text": [
            "Training N=6:  62%|██████▏   | 31/50 [00:15<00:11,  1.66it/s]"
          ]
        },
        {
          "name": "stdout",
          "output_type": "stream",
          "text": [
            "Epoch 30: Loss=0.4657, Val Acc=0.9279\n"
          ]
        },
        {
          "name": "stderr",
          "output_type": "stream",
          "text": [
            "Training N=6:  72%|███████▏  | 36/50 [00:17<00:07,  1.76it/s]"
          ]
        },
        {
          "name": "stdout",
          "output_type": "stream",
          "text": [
            "Epoch 35: Loss=0.4471, Val Acc=0.8641\n"
          ]
        },
        {
          "name": "stderr",
          "output_type": "stream",
          "text": [
            "Training N=6:  82%|████████▏ | 41/50 [00:20<00:04,  1.82it/s]"
          ]
        },
        {
          "name": "stdout",
          "output_type": "stream",
          "text": [
            "Epoch 40: Loss=0.3322, Val Acc=0.9098\n"
          ]
        },
        {
          "name": "stderr",
          "output_type": "stream",
          "text": [
            "Training N=6:  92%|█████████▏| 46/50 [00:22<00:02,  1.84it/s]"
          ]
        },
        {
          "name": "stdout",
          "output_type": "stream",
          "text": [
            "Epoch 45: Loss=0.4200, Val Acc=0.8713\n"
          ]
        },
        {
          "name": "stderr",
          "output_type": "stream",
          "text": [
            "Training N=6: 100%|██████████| 50/50 [00:24<00:00,  2.07it/s]\n"
          ]
        },
        {
          "name": "stdout",
          "output_type": "stream",
          "text": [
            "N=6 Final Accuracy: 0.9366\n",
            "\n",
            "=== Training N=7 ===\n"
          ]
        },
        {
          "name": "stderr",
          "output_type": "stream",
          "text": [
            "Training N=7:   2%|▏         | 1/50 [00:01<00:50,  1.04s/it]"
          ]
        },
        {
          "name": "stdout",
          "output_type": "stream",
          "text": [
            "Epoch 0: Loss=3.1869, Val Acc=0.1936\n"
          ]
        },
        {
          "name": "stderr",
          "output_type": "stream",
          "text": [
            "Training N=7:  12%|█▏        | 6/50 [00:03<00:25,  1.71it/s]"
          ]
        },
        {
          "name": "stdout",
          "output_type": "stream",
          "text": [
            "Epoch 5: Loss=1.7933, Val Acc=0.3295\n"
          ]
        },
        {
          "name": "stderr",
          "output_type": "stream",
          "text": [
            "Training N=7:  22%|██▏       | 11/50 [00:05<00:23,  1.68it/s]"
          ]
        },
        {
          "name": "stdout",
          "output_type": "stream",
          "text": [
            "Epoch 10: Loss=1.3734, Val Acc=0.4899\n"
          ]
        },
        {
          "name": "stderr",
          "output_type": "stream",
          "text": [
            "Training N=7:  32%|███▏      | 16/50 [00:08<00:18,  1.80it/s]"
          ]
        },
        {
          "name": "stdout",
          "output_type": "stream",
          "text": [
            "Epoch 15: Loss=0.9628, Val Acc=0.5098\n"
          ]
        },
        {
          "name": "stderr",
          "output_type": "stream",
          "text": [
            "Training N=7:  42%|████▏     | 21/50 [00:10<00:16,  1.73it/s]"
          ]
        },
        {
          "name": "stdout",
          "output_type": "stream",
          "text": [
            "Epoch 20: Loss=0.7861, Val Acc=0.8586\n"
          ]
        },
        {
          "name": "stderr",
          "output_type": "stream",
          "text": [
            "Training N=7:  52%|█████▏    | 26/50 [00:13<00:13,  1.72it/s]"
          ]
        },
        {
          "name": "stdout",
          "output_type": "stream",
          "text": [
            "Epoch 25: Loss=0.5768, Val Acc=0.7409\n"
          ]
        },
        {
          "name": "stderr",
          "output_type": "stream",
          "text": [
            "Training N=7:  62%|██████▏   | 31/50 [00:15<00:10,  1.80it/s]"
          ]
        },
        {
          "name": "stdout",
          "output_type": "stream",
          "text": [
            "Epoch 30: Loss=0.4924, Val Acc=0.8957\n"
          ]
        },
        {
          "name": "stderr",
          "output_type": "stream",
          "text": [
            "Training N=7:  72%|███████▏  | 36/50 [00:17<00:07,  1.75it/s]"
          ]
        },
        {
          "name": "stdout",
          "output_type": "stream",
          "text": [
            "Epoch 35: Loss=0.5097, Val Acc=0.8842\n"
          ]
        },
        {
          "name": "stderr",
          "output_type": "stream",
          "text": [
            "Training N=7:  82%|████████▏ | 41/50 [00:20<00:05,  1.72it/s]"
          ]
        },
        {
          "name": "stdout",
          "output_type": "stream",
          "text": [
            "Epoch 40: Loss=0.4208, Val Acc=0.9079\n"
          ]
        },
        {
          "name": "stderr",
          "output_type": "stream",
          "text": [
            "Training N=7:  92%|█████████▏| 46/50 [00:22<00:02,  1.78it/s]"
          ]
        },
        {
          "name": "stdout",
          "output_type": "stream",
          "text": [
            "Epoch 45: Loss=0.4653, Val Acc=0.9577\n"
          ]
        },
        {
          "name": "stderr",
          "output_type": "stream",
          "text": [
            "Training N=7: 100%|██████████| 50/50 [00:24<00:00,  2.05it/s]\n"
          ]
        },
        {
          "name": "stdout",
          "output_type": "stream",
          "text": [
            "N=7 Final Accuracy: 0.9207\n",
            "\n",
            "=== Training N=8 ===\n"
          ]
        },
        {
          "name": "stderr",
          "output_type": "stream",
          "text": [
            "Training N=8:   2%|▏         | 1/50 [00:01<00:49,  1.01s/it]"
          ]
        },
        {
          "name": "stdout",
          "output_type": "stream",
          "text": [
            "Epoch 0: Loss=3.1803, Val Acc=0.1453\n"
          ]
        },
        {
          "name": "stderr",
          "output_type": "stream",
          "text": [
            "Training N=8:  12%|█▏        | 6/50 [00:03<00:25,  1.72it/s]"
          ]
        },
        {
          "name": "stdout",
          "output_type": "stream",
          "text": [
            "Epoch 5: Loss=1.7924, Val Acc=0.4929\n"
          ]
        },
        {
          "name": "stderr",
          "output_type": "stream",
          "text": [
            "Training N=8:  22%|██▏       | 11/50 [00:05<00:21,  1.82it/s]"
          ]
        },
        {
          "name": "stdout",
          "output_type": "stream",
          "text": [
            "Epoch 10: Loss=1.3952, Val Acc=0.6802\n"
          ]
        },
        {
          "name": "stderr",
          "output_type": "stream",
          "text": [
            "Training N=8:  32%|███▏      | 16/50 [00:08<00:18,  1.79it/s]"
          ]
        },
        {
          "name": "stdout",
          "output_type": "stream",
          "text": [
            "Epoch 15: Loss=1.0407, Val Acc=0.5042\n"
          ]
        },
        {
          "name": "stderr",
          "output_type": "stream",
          "text": [
            "Training N=8:  42%|████▏     | 21/50 [00:10<00:16,  1.78it/s]"
          ]
        },
        {
          "name": "stdout",
          "output_type": "stream",
          "text": [
            "Epoch 20: Loss=0.7551, Val Acc=0.8569\n"
          ]
        },
        {
          "name": "stderr",
          "output_type": "stream",
          "text": [
            "Training N=8:  52%|█████▏    | 26/50 [00:12<00:13,  1.84it/s]"
          ]
        },
        {
          "name": "stdout",
          "output_type": "stream",
          "text": [
            "Epoch 25: Loss=0.7173, Val Acc=0.8563\n"
          ]
        },
        {
          "name": "stderr",
          "output_type": "stream",
          "text": [
            "Training N=8:  62%|██████▏   | 31/50 [00:15<00:11,  1.71it/s]"
          ]
        },
        {
          "name": "stdout",
          "output_type": "stream",
          "text": [
            "Epoch 30: Loss=0.5925, Val Acc=0.8212\n"
          ]
        },
        {
          "name": "stderr",
          "output_type": "stream",
          "text": [
            "Training N=8:  72%|███████▏  | 36/50 [00:17<00:07,  1.81it/s]"
          ]
        },
        {
          "name": "stdout",
          "output_type": "stream",
          "text": [
            "Epoch 35: Loss=0.4810, Val Acc=0.8629\n"
          ]
        },
        {
          "name": "stderr",
          "output_type": "stream",
          "text": [
            "Training N=8:  82%|████████▏ | 41/50 [00:20<00:04,  1.81it/s]"
          ]
        },
        {
          "name": "stdout",
          "output_type": "stream",
          "text": [
            "Epoch 40: Loss=0.3375, Val Acc=0.9258\n"
          ]
        },
        {
          "name": "stderr",
          "output_type": "stream",
          "text": [
            "Training N=8:  92%|█████████▏| 46/50 [00:22<00:02,  1.82it/s]"
          ]
        },
        {
          "name": "stdout",
          "output_type": "stream",
          "text": [
            "Epoch 45: Loss=0.2962, Val Acc=0.7680\n"
          ]
        },
        {
          "name": "stderr",
          "output_type": "stream",
          "text": [
            "Training N=8: 100%|██████████| 50/50 [00:24<00:00,  2.08it/s]\n"
          ]
        },
        {
          "name": "stdout",
          "output_type": "stream",
          "text": [
            "N=8 Final Accuracy: 0.9496\n",
            "\n",
            "=== Training N=9 ===\n"
          ]
        },
        {
          "name": "stderr",
          "output_type": "stream",
          "text": [
            "Training N=9:   2%|▏         | 1/50 [00:01<00:50,  1.03s/it]"
          ]
        },
        {
          "name": "stdout",
          "output_type": "stream",
          "text": [
            "Epoch 0: Loss=3.1821, Val Acc=0.1173\n"
          ]
        },
        {
          "name": "stderr",
          "output_type": "stream",
          "text": [
            "Training N=9:  12%|█▏        | 6/50 [00:03<00:25,  1.75it/s]"
          ]
        },
        {
          "name": "stdout",
          "output_type": "stream",
          "text": [
            "Epoch 5: Loss=1.7909, Val Acc=0.3986\n"
          ]
        },
        {
          "name": "stderr",
          "output_type": "stream",
          "text": [
            "Training N=9:  22%|██▏       | 11/50 [00:05<00:22,  1.72it/s]"
          ]
        },
        {
          "name": "stdout",
          "output_type": "stream",
          "text": [
            "Epoch 10: Loss=1.3005, Val Acc=0.5742\n"
          ]
        },
        {
          "name": "stderr",
          "output_type": "stream",
          "text": [
            "Training N=9:  32%|███▏      | 16/50 [00:08<00:19,  1.73it/s]"
          ]
        },
        {
          "name": "stdout",
          "output_type": "stream",
          "text": [
            "Epoch 15: Loss=1.0551, Val Acc=0.7256\n"
          ]
        },
        {
          "name": "stderr",
          "output_type": "stream",
          "text": [
            "Training N=9:  42%|████▏     | 21/50 [00:10<00:17,  1.68it/s]"
          ]
        },
        {
          "name": "stdout",
          "output_type": "stream",
          "text": [
            "Epoch 20: Loss=0.8156, Val Acc=0.7451\n"
          ]
        },
        {
          "name": "stderr",
          "output_type": "stream",
          "text": [
            "Training N=9:  52%|█████▏    | 26/50 [00:13<00:13,  1.79it/s]"
          ]
        },
        {
          "name": "stdout",
          "output_type": "stream",
          "text": [
            "Epoch 25: Loss=0.6022, Val Acc=0.7780\n"
          ]
        },
        {
          "name": "stderr",
          "output_type": "stream",
          "text": [
            "Training N=9:  62%|██████▏   | 31/50 [00:15<00:10,  1.84it/s]"
          ]
        },
        {
          "name": "stdout",
          "output_type": "stream",
          "text": [
            "Epoch 30: Loss=0.6088, Val Acc=0.8646\n"
          ]
        },
        {
          "name": "stderr",
          "output_type": "stream",
          "text": [
            "Training N=9:  72%|███████▏  | 36/50 [00:17<00:08,  1.75it/s]"
          ]
        },
        {
          "name": "stdout",
          "output_type": "stream",
          "text": [
            "Epoch 35: Loss=0.5515, Val Acc=0.7531\n"
          ]
        },
        {
          "name": "stderr",
          "output_type": "stream",
          "text": [
            "Training N=9:  82%|████████▏ | 41/50 [00:20<00:05,  1.65it/s]"
          ]
        },
        {
          "name": "stdout",
          "output_type": "stream",
          "text": [
            "Epoch 40: Loss=0.5182, Val Acc=0.7705\n"
          ]
        },
        {
          "name": "stderr",
          "output_type": "stream",
          "text": [
            "Training N=9:  92%|█████████▏| 46/50 [00:23<00:02,  1.68it/s]"
          ]
        },
        {
          "name": "stdout",
          "output_type": "stream",
          "text": [
            "Epoch 45: Loss=0.3224, Val Acc=0.9599\n"
          ]
        },
        {
          "name": "stderr",
          "output_type": "stream",
          "text": [
            "Training N=9: 100%|██████████| 50/50 [00:24<00:00,  2.05it/s]\n"
          ]
        },
        {
          "name": "stdout",
          "output_type": "stream",
          "text": [
            "N=9 Final Accuracy: 0.9183\n",
            "\n",
            "=== Training N=10 ===\n"
          ]
        },
        {
          "name": "stderr",
          "output_type": "stream",
          "text": [
            "Training N=10:   2%|▏         | 1/50 [00:01<00:49,  1.00s/it]"
          ]
        },
        {
          "name": "stdout",
          "output_type": "stream",
          "text": [
            "Epoch 0: Loss=3.1790, Val Acc=0.1408\n"
          ]
        },
        {
          "name": "stderr",
          "output_type": "stream",
          "text": [
            "Training N=10:  12%|█▏        | 6/50 [00:03<00:25,  1.70it/s]"
          ]
        },
        {
          "name": "stdout",
          "output_type": "stream",
          "text": [
            "Epoch 5: Loss=1.7791, Val Acc=0.3587\n"
          ]
        },
        {
          "name": "stderr",
          "output_type": "stream",
          "text": [
            "Training N=10:  22%|██▏       | 11/50 [00:05<00:21,  1.78it/s]"
          ]
        },
        {
          "name": "stdout",
          "output_type": "stream",
          "text": [
            "Epoch 10: Loss=1.3637, Val Acc=0.5844\n"
          ]
        },
        {
          "name": "stderr",
          "output_type": "stream",
          "text": [
            "Training N=10:  32%|███▏      | 16/50 [00:08<00:19,  1.77it/s]"
          ]
        },
        {
          "name": "stdout",
          "output_type": "stream",
          "text": [
            "Epoch 15: Loss=1.1410, Val Acc=0.5439\n"
          ]
        },
        {
          "name": "stderr",
          "output_type": "stream",
          "text": [
            "Training N=10:  42%|████▏     | 21/50 [00:10<00:17,  1.70it/s]"
          ]
        },
        {
          "name": "stdout",
          "output_type": "stream",
          "text": [
            "Epoch 20: Loss=0.8166, Val Acc=0.8478\n"
          ]
        },
        {
          "name": "stderr",
          "output_type": "stream",
          "text": [
            "Training N=10:  52%|█████▏    | 26/50 [00:13<00:14,  1.70it/s]"
          ]
        },
        {
          "name": "stdout",
          "output_type": "stream",
          "text": [
            "Epoch 25: Loss=0.8456, Val Acc=0.6689\n"
          ]
        },
        {
          "name": "stderr",
          "output_type": "stream",
          "text": [
            "Training N=10:  62%|██████▏   | 31/50 [00:15<00:11,  1.67it/s]"
          ]
        },
        {
          "name": "stdout",
          "output_type": "stream",
          "text": [
            "Epoch 30: Loss=0.6318, Val Acc=0.7926\n"
          ]
        },
        {
          "name": "stderr",
          "output_type": "stream",
          "text": [
            "Training N=10:  72%|███████▏  | 36/50 [00:18<00:08,  1.75it/s]"
          ]
        },
        {
          "name": "stdout",
          "output_type": "stream",
          "text": [
            "Epoch 35: Loss=0.5101, Val Acc=0.8870\n"
          ]
        },
        {
          "name": "stderr",
          "output_type": "stream",
          "text": [
            "Training N=10:  82%|████████▏ | 41/50 [00:20<00:05,  1.76it/s]"
          ]
        },
        {
          "name": "stdout",
          "output_type": "stream",
          "text": [
            "Epoch 40: Loss=0.4985, Val Acc=0.8522\n"
          ]
        },
        {
          "name": "stderr",
          "output_type": "stream",
          "text": [
            "Training N=10:  92%|█████████▏| 46/50 [00:22<00:02,  1.82it/s]"
          ]
        },
        {
          "name": "stdout",
          "output_type": "stream",
          "text": [
            "Epoch 45: Loss=0.4208, Val Acc=0.8788\n"
          ]
        },
        {
          "name": "stderr",
          "output_type": "stream",
          "text": [
            "Training N=10: 100%|██████████| 50/50 [00:24<00:00,  2.06it/s]\n"
          ]
        },
        {
          "name": "stdout",
          "output_type": "stream",
          "text": [
            "N=10 Final Accuracy: 0.9473\n"
          ]
        },
        {
          "data": {
            "image/png": "[encoded data removed]",
            "text/plain": [
              "<Figure size 1000x500 with 1 Axes>"
            ]
          },
          "metadata": {},
          "output_type": "display_data"
        }
      ],
      "source": [
        "import numpy as np\n",
        "import torch\n",
        "import torch.nn as nn\n",
        "import torch.optim as optim\n",
        "from torch.utils.data import Dataset, DataLoader\n",
        "import matplotlib.pyplot as plt\n",
        "from tqdm import trange\n",
        "import torch.nn.functional as F\n",
        "\n",
        "# Set all random seeds for reproducibility\n",
        "SEED = 42\n",
        "torch.manual_seed(SEED)\n",
        "np.random.seed(SEED)\n",
        "if torch.cuda.is_available():\n",
        "    torch.cuda.manual_seed_all(SEED)\n",
        "\n",
        "# Configuration\n",
        "GRID_SIZE = 5\n",
        "HIDDEN_SIZE = 256  # Increased hidden size\n",
        "INPUT_SIZE = 4 \n",
        "OUTPUT_SIZE = GRID_SIZE**2\n",
        "DEVICE = torch.device(\"mps\" if torch.backends.mps.is_available() else \"cpu\")\n",
        "SEQ_LENGTH = 50\n",
        "BATCH_SIZE = 128\n",
        "LEARNING_RATE = 0.0005  # Reduced learning rate\n",
        "EPOCHS = 50  # Increased training epochs\n",
        "\n",
        "# Movement vectors\n",
        "movement_vectors = [\n",
        "    np.array([1, 0]),   # Right\n",
        "    np.array([-1, 0]),  # Left\n",
        "    np.array([0, 1]),   # Down\n",
        "    np.array([0, -1])   # Up\n",
        "]\n",
        "\n",
        "class NBackDataset(Dataset):\n",
        "    def __init__(self, num_samples, n_back):\n",
        "        # Generate deterministic random actions using numpy\n",
        "        state = np.random.RandomState(SEED)\n",
        "        self.actions = torch.from_numpy(\n",
        "            state.randint(0, 4, (num_samples, SEQ_LENGTH)))\n",
        "        self.n_back = n_back\n",
        "        self.targets = self._generate_targets()\n",
        "        \n",
        "    def _generate_targets(self):\n",
        "        batch_size = self.actions.size(0)\n",
        "        targets = torch.zeros((batch_size, SEQ_LENGTH), dtype=torch.long)\n",
        "        \n",
        "        for i in range(batch_size):\n",
        "            pos = np.array([GRID_SIZE//2, GRID_SIZE//2])  # Start at center (2,2)\n",
        "            for t in range(SEQ_LENGTH):\n",
        "                action = self.actions[i, t].item()\n",
        "                pos = np.clip(pos + movement_vectors[action], 0, GRID_SIZE-1)\n",
        "                targets[i, t] = pos[0] * GRID_SIZE + pos[1]\n",
        "        return targets\n",
        "    \n",
        "    def __len__(self):\n",
        "        return len(self.actions)\n",
        "    \n",
        "    def __getitem__(self, idx):\n",
        "        return self.actions[idx], self.targets[idx]\n",
        "\n",
        "class NBackLSTM(nn.Module):\n",
        "    def __init__(self):\n",
        "        super().__init__()\n",
        "        self.lstm = nn.LSTM(\n",
        "            input_size=4,\n",
        "            hidden_size=HIDDEN_SIZE,\n",
        "            num_layers=1,\n",
        "            batch_first=True\n",
        "        )\n",
        "        self.fc = nn.Sequential(\n",
        "            nn.Linear(HIDDEN_SIZE, HIDDEN_SIZE),\n",
        "            nn.ReLU(),\n",
        "            nn.Dropout(0.2),  # Dropout only on the FC layers\n",
        "            nn.Linear(HIDDEN_SIZE, OUTPUT_SIZE)\n",
        "        )\n",
        "        \n",
        "        # Initialize hidden states with small values\n",
        "        self.h0 = nn.Parameter(torch.randn(1, 1, HIDDEN_SIZE) * 0.05)\n",
        "        self.c0 = nn.Parameter(torch.randn(1, 1, HIDDEN_SIZE) * 0.05)\n",
        "        \n",
        "    def forward(self, x, batch_size):\n",
        "        x = F.one_hot(x, num_classes=4).float().to(DEVICE)\n",
        "        h0 = self.h0.expand(1, batch_size, -1).contiguous()\n",
        "        c0 = self.c0.expand(1, batch_size, -1).contiguous()\n",
        "        out, _ = self.lstm(x, (h0, c0))\n",
        "        return self.fc(out)\n",
        "\n",
        "class NBackTrainer:\n",
        "    def __init__(self, n_back):\n",
        "        self.n_back = n_back\n",
        "        self.model = NBackLSTM().to(DEVICE)\n",
        "        self.optimizer = optim.AdamW(self.model.parameters(), lr=LEARNING_RATE)\n",
        "        self.criterion = nn.CrossEntropyLoss()\n",
        "        \n",
        "    def train(self, epochs=EPOCHS):\n",
        "        # Remove num_workers to avoid multiprocessing issues\n",
        "        train_loader = DataLoader(\n",
        "            NBackDataset(4000, self.n_back),\n",
        "            batch_size=BATCH_SIZE,\n",
        "            shuffle=True\n",
        "        )\n",
        "        \n",
        "        best_acc = 0\n",
        "        self.model.train()\n",
        "        for epoch in trange(epochs, desc=f\"Training N={self.n_back}\"):\n",
        "            total_loss = 0\n",
        "            for actions, targets in train_loader:\n",
        "                actions, targets = actions.to(DEVICE), targets.to(DEVICE)\n",
        "                batch_size = actions.size(0)\n",
        "                \n",
        "                self.optimizer.zero_grad()\n",
        "                logits = self.model(actions, batch_size)\n",
        "                \n",
        "                if self.n_back == 0:\n",
        "                    loss = self.criterion(logits.reshape(-1, OUTPUT_SIZE), targets.reshape(-1))\n",
        "                else:\n",
        "                    preds = logits[:, self.n_back:]\n",
        "                    tgts = targets[:, self.n_back:]\n",
        "                    loss = self.criterion(preds.reshape(-1, OUTPUT_SIZE), tgts.reshape(-1))\n",
        "                \n",
        "                loss.backward()\n",
        "                torch.nn.utils.clip_grad_norm_(self.model.parameters(), 1.0)\n",
        "                self.optimizer.step()\n",
        "                total_loss += loss.item()\n",
        "            \n",
        "            # Print training progress\n",
        "            if epoch % 5 == 0:\n",
        "                val_acc = self.evaluate()\n",
        "                print(f\"Epoch {epoch}: Loss={total_loss/len(train_loader):.4f}, Val Acc={val_acc:.4f}\")\n",
        "                if val_acc > best_acc:\n",
        "                    best_acc = val_acc\n",
        "    \n",
        "    def evaluate(self, test_samples=1000):\n",
        "        test_loader = DataLoader(\n",
        "            NBackDataset(test_samples, self.n_back),\n",
        "            batch_size=BATCH_SIZE\n",
        "        )\n",
        "        \n",
        "        self.model.eval()\n",
        "        correct = total = 0\n",
        "        with torch.no_grad():\n",
        "            for actions, targets in test_loader:\n",
        "                actions, targets = actions.to(DEVICE), targets.to(DEVICE)\n",
        "                batch_size = actions.size(0)\n",
        "                logits = self.model(actions, batch_size)\n",
        "                \n",
        "                if self.n_back == 0:\n",
        "                    preds = logits.argmax(-1)\n",
        "                    tgts = targets\n",
        "                else:\n",
        "                    preds = logits[:, self.n_back:].argmax(-1)\n",
        "                    tgts = targets[:, self.n_back:]\n",
        "                \n",
        "                correct += (preds == tgts).sum().item()\n",
        "                total += tgts.numel()\n",
        "                \n",
        "        return correct / total if total > 0 else 0\n",
        "\n",
        "def run_experiment(max_n=10):\n",
        "    accuracies = []\n",
        "    for N in range(max_n + 1):\n",
        "        print(f\"\\n=== Training N={N} ===\")\n",
        "        trainer = NBackTrainer(N)\n",
        "        trainer.train()\n",
        "        \n",
        "        # Evaluate 3 times for stability\n",
        "        eval_acc = np.mean([trainer.evaluate() for _ in range(3)])\n",
        "        accuracies.append(eval_acc)\n",
        "        print(f\"N={N} Final Accuracy: {eval_acc:.4f}\")\n",
        "        \n",
        "    return accuracies\n",
        "\n",
        "# Run experiment\n",
        "accuracies = run_experiment()\n",
        "\n",
        "# Plot results\n",
        "plt.figure(figsize=(10, 5))\n",
        "plt.plot(range(len(accuracies)), accuracies, marker='o', linewidth=2, markersize=8)\n",
        "plt.xlabel(\"N-back level\", fontsize=12)\n",
        "plt.ylabel(\"Accuracy\", fontsize=12)\n",
        "plt.title(f\"N-back Task Performance (Seed: {SEED})\", fontsize=14)\n",
        "plt.xticks(range(len(accuracies)))\n",
        "plt.grid(True, linestyle='--', alpha=0.7)\n",
        "plt.ylim(0, 1.05)\n",
        "plt.tight_layout()\n",
        "plt.show()"
      ]
    }
  ],
  "metadata": {
    "colab": {
      "provenance": []
    },
    "kernelspec": {
      "display_name": ".conda",
      "language": "python",
      "name": "python3"
    },
    "language_info": {
      "codemirror_mode": {
        "name": "ipython",
        "version": 3
      },
      "file_extension": ".py",
      "mimetype": "text/x-python",
      "name": "python",
      "nbconvert_exporter": "python",
      "pygments_lexer": "ipython3",
      "version": "3.11.9"
    }
  },
  "nbformat": 4,
  "nbformat_minor": 0
}
