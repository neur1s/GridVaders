{
 "cells": [
  {
   "cell_type": "markdown",
   "id": "a257a959",
   "metadata": {},
   "source": [
    "# Vanilla RNN\n",
    "V1 by Didi (under review)"
   ]
  },
  {
   "cell_type": "code",
   "execution_count": 1,
   "id": "bf9571a2-3794-481c-bbaf-7a732d06ef78",
   "metadata": {},
   "outputs": [],
   "source": [
    "from scipy import stats\n",
    "import numpy as np"
   ]
  },
  {
   "cell_type": "markdown",
   "id": "d12ba71c-9b2f-479b-b7c7-f65fe958fd7d",
   "metadata": {},
   "source": [
    "# Version with step-by-step loss"
   ]
  },
  {
   "cell_type": "code",
   "execution_count": 2,
   "id": "0e0c711b-adfd-491f-af0f-574aae094b94",
   "metadata": {},
   "outputs": [],
   "source": [
    "# Dict to convert movement idx to actual movement coordinates\n",
    "idx2mov = {0:np.array([1,0], dtype=int), \n",
    "           1:np.array([-1,0], dtype=int), \n",
    "           2:np.array([0,1], dtype=int), \n",
    "           3:np.array([0,-1], dtype=int)}\n",
    "\n",
    "# Convert coordinate to flattened idx\n",
    "def loc2idx(loc, grid_size=np.array([5, 5], dtype=int)):\n",
    "    return loc[0]*grid_size[0] + loc[1]\n",
    "\n",
    "# Convert location flattened idx to coordinate\n",
    "def idx2loc(idx, grid_size=np.array([5, 5], dtype=int)):\n",
    "    return np.array([idx // grid_size[0], idx % grid_size[0]], dtype=int)\n",
    "\n",
    "\n",
    "def sample_n_back_spatial(n, p_stop=0.05, max_length=40, grid_size=np.array([5, 5], dtype=int), boundary='periodic', return_trajectory=False):\n",
    "    \"\"\"\n",
    "    Function to generate a sample for the n-back spatial task.\n",
    "\n",
    "    Args:\n",
    "    - n: response delay\n",
    "    - p_stop: after n steps, probability of stoping walk (default=0.05)\n",
    "    - max_length: maximum trajectory length (left zero-padding is applied to reach this length)\n",
    "    - grid_size (array-like): size of gridworld, must be odd (default=[5,5])\n",
    "    - boundary ['periodic', 'strict']: boundary conditions\n",
    "    - return_trajectory (bool): whether to return trajectory\n",
    "\n",
    "    Returns: movements (1D array, as index), n_back_idx (n-back location as idx), (trajectory) \n",
    "    \n",
    "    \"\"\"\n",
    "    assert boundary in ['periodic', 'strict'], \"boundary must be either 'periodic' or 'strict'\"\n",
    "    assert (grid_size[0] % 2 == 1) & (grid_size[1] % 2 == 1), \"grid size must be odd\"\n",
    "\n",
    "    zero = np.array([(grid_size[0]-1)//2, (grid_size[1]-1)//2], dtype=int)\n",
    "    movements = np.random.randint(4, size=max_length)\n",
    "    \n",
    "    trajectory = [zero]\n",
    "    \n",
    "    for idx in movements:\n",
    "        if boundary == 'periodic':\n",
    "            trajectory.append((trajectory[-1] + idx2mov[idx]) % grid_size)\n",
    "        elif boundary == 'strict':\n",
    "            trajectory.append(np.clip(trajectory[-1] + idx2mov[idx], a_min=[0,0], a_max=grid_size-1))\n",
    "        \n",
    "    trajectory = np.array(trajectory)\n",
    "\n",
    "    n_back_idx = np.array([loc2idx(trajectory[i], grid_size=grid_size) for i in range(max_length-n)])\n",
    "\n",
    "    if return_trajectory:\n",
    "        return movements, n_back_idx, trajectory\n",
    "    else:\n",
    "        return movements, n_back_idx\n"
   ]
  },
  {
   "cell_type": "code",
   "execution_count": 3,
   "id": "ac12feec-412f-4e0f-8943-df20a8f99588",
   "metadata": {},
   "outputs": [
    {
     "data": {
      "text/plain": [
       "(array([3, 0, 3, 1, 1, 2, 0, 0, 1, 1, 1, 1, 2, 3, 3, 2, 0, 1, 2, 0, 0, 1,\n",
       "        0, 1, 0, 1, 0, 0, 0, 0, 2, 0, 1, 1, 3, 0, 0, 3, 3, 2], dtype=int32),\n",
       " array([12, 11, 16, 15, 10,  5,  6, 11, 16, 11,  6,  1,  1,  2,  1,  0,  1,\n",
       "         6,  1,  2,  7, 12,  7, 12,  7, 12,  7, 12, 17, 22, 22, 23, 23, 18,\n",
       "        13, 12, 17, 22]))"
      ]
     },
     "execution_count": 3,
     "metadata": {},
     "output_type": "execute_result"
    }
   ],
   "source": [
    "sample_n_back_spatial(2, boundary='strict')"
   ]
  },
  {
   "cell_type": "code",
   "execution_count": 4,
   "id": "a4a012c0-84c3-49ca-a954-8998ac419056",
   "metadata": {},
   "outputs": [],
   "source": [
    "from torch.utils.data import Dataset, DataLoader\n",
    "import torch\n",
    "\n",
    "class NBackDataset(Dataset):\n",
    "    def __init__(self, x, y):\n",
    "        self.x = x\n",
    "        self.y = y\n",
    "\n",
    "    def __len__(self):\n",
    "        return len(self.x)\n",
    "\t\t\n",
    "    def __getitem__(self, idx):\n",
    "        return self.x[idx], self.y[idx]\n",
    "\n",
    "def create_n_back_dataset(num_samples, n, p_stop=0.05, max_length=40, grid_size=np.array([5, 5], dtype=int), boundary='periodic'):\n",
    "    X, Y = [], []\n",
    "    for _ in range(num_samples):\n",
    "        x, y = sample_n_back_spatial(n, p_stop=p_stop, max_length=max_length, grid_size=grid_size, boundary=boundary)\n",
    "        X.append(x); Y.append(y)\n",
    "\n",
    "    X = np.vstack(X)\n",
    "    Y = np.vstack(Y)\n",
    "\n",
    "    X = torch.tensor(X, dtype=int)\n",
    "    Y = torch.tensor(Y, dtype=int)\n",
    "\n",
    "    return NBackDataset(X, Y)"
   ]
  },
  {
   "cell_type": "code",
   "execution_count": 5,
   "id": "cc7a51e4-331c-4df5-a54b-3fb0b0aa69cd",
   "metadata": {},
   "outputs": [
    {
     "data": {
      "text/plain": [
       "torch.Size([37])"
      ]
     },
     "execution_count": 5,
     "metadata": {},
     "output_type": "execute_result"
    }
   ],
   "source": [
    "data = create_n_back_dataset(100, 3)\n",
    "data[0][1].size()"
   ]
  },
  {
   "cell_type": "code",
   "execution_count": 6,
   "id": "571cd6cf-2325-4b45-aa58-7cee86f625e4",
   "metadata": {},
   "outputs": [],
   "source": [
    "import torch.nn.functional as F\n",
    "from torch import nn\n",
    "\n",
    "class RNNExplorer(nn.Module):\n",
    "    \n",
    "    def __init__(self, n_back, hidden_state_size, num_layers=1, grid_size=np.array([5, 5], dtype=int), dropout=0.2):\n",
    "\n",
    "        super(RNNExplorer, self).__init__()\n",
    "\n",
    "        self.n_back = n_back\n",
    "        self.hidden_state_size = hidden_state_size\n",
    "        self.output_size = grid_size[0]*grid_size[1]\n",
    "        self.num_layers = num_layers\n",
    "\n",
    "        self.core = nn.RNN(4, self.hidden_state_size, num_layers=num_layers, batch_first=True, dropout=dropout)\n",
    "        self.dropout = nn.Dropout(dropout)\n",
    "        self.head = nn.Linear(self.hidden_state_size, self.output_size)\n",
    "\n",
    "    def forward(self, X, return_hidden=False):\n",
    "\n",
    "        X = F.one_hot(X, num_classes=4).to(torch.float32)\n",
    "        h0 = torch.zeros(self.num_layers, X.size(0), self.hidden_state_size).to(X.device)\n",
    "\n",
    "        if return_hidden:\n",
    "            states, hidden = self.core(X, h0)\n",
    "        else:\n",
    "            states, _= self.core(X, h0)\n",
    "        \n",
    "        logits = self.head(self.dropout(states[:, self.n_back:, :]))\n",
    "        \n",
    "        if return_hidden:\n",
    "            return logits.transpose(1,2), hidden\n",
    "        else:\n",
    "            return logits.transpose(1,2)"
   ]
  },
  {
   "cell_type": "code",
   "execution_count": 7,
   "id": "ba650137-8b2c-4668-8eed-70c11a140203",
   "metadata": {},
   "outputs": [],
   "source": [
    "def train(dataloader, model, loss_fn, optimizer):\n",
    "    size = len(dataloader.dataset)\n",
    "    loss_list = []\n",
    "    model.train()\n",
    "    for batch, (X, y) in enumerate(dataloader):\n",
    "        X, y = X.to(device), y.to(device)\n",
    "\n",
    "        # Compute prediction error\n",
    "        pred = model(X)\n",
    "        loss = loss_fn(pred, y)\n",
    "\n",
    "        # Backpropagation\n",
    "        loss.backward()\n",
    "        optimizer.step()\n",
    "        optimizer.zero_grad()\n",
    "\n",
    "        loss_list.append(loss.item())\n",
    "\n",
    "    return np.mean(loss_list)\n",
    "#            print(f\"loss: {loss:>7f}  [{current:>5d}/{size:>5d}]\")\n",
    "\n",
    "def test(dataloader, model, loss_fn):\n",
    "    size = len(dataloader.dataset)\n",
    "    num_batches = len(dataloader)\n",
    "    model.eval()\n",
    "    test_loss, correct = 0, 0\n",
    "    with torch.no_grad():\n",
    "        for X, y in dataloader:\n",
    "            X, y = X.to(device), y.to(device)\n",
    "            pred = model(X)\n",
    "            test_loss += loss_fn(pred, y).item()\n",
    "            correct += (pred.argmax(1) == y).type(torch.float).mean().item()\n",
    "    test_loss /= num_batches\n",
    "    correct /= num_batches\n",
    "    print(f\"Test Error: \\n Accuracy: {(100*correct):>0.1f}%, Avg loss: {test_loss:>8f} \\n\")\n",
    "    return correct, test_loss"
   ]
  },
  {
   "cell_type": "code",
   "execution_count": 8,
   "id": "5900aadc-fe63-4479-ad65-544d4bcfe1f7",
   "metadata": {},
   "outputs": [
    {
     "name": "stdout",
     "output_type": "stream",
     "text": [
      "Using cpu device\n"
     ]
    }
   ],
   "source": [
    "device = torch.accelerator.current_accelerator().type if torch.accelerator.is_available() else \"cpu\"\n",
    "print(f\"Using {device} device\")"
   ]
  },
  {
   "cell_type": "code",
   "execution_count": 9,
   "id": "b88de844-1cff-4d03-8335-13105c72212c",
   "metadata": {
    "scrolled": true
   },
   "outputs": [],
   "source": [
    "from torch import optim\n",
    "from torch.optim.lr_scheduler import ExponentialLR\n",
    "\n",
    "batch_size = 1000\n",
    "epochs = 200\n",
    "train_sample_size = 100_000\n",
    "test_sample_size = 10_000\n",
    "\n",
    "n_back = 10\n",
    "hidden_units = 128\n",
    "num_layers = 1\n",
    "lr = 0.001\n",
    "\n",
    "def sample_and_train(n_back, hidden_units, num_layers=1, train_sample_size=100_000, test_sample_size=10_000, batch_size=1000, epochs=10, lr=0.001, dropout=0.2, l2_reg=0.):\n",
    "\n",
    "    train_dataloader = DataLoader(create_n_back_dataset(train_sample_size, n_back, boundary='strict'), batch_size=batch_size)\n",
    "    test_dataloader = DataLoader(create_n_back_dataset(test_sample_size, n_back, boundary='strict'), batch_size=batch_size)\n",
    "        \n",
    "    \n",
    "    model = RNNExplorer(n_back, hidden_units, num_layers=num_layers).to(device)\n",
    "    loss_fn = nn.CrossEntropyLoss()\n",
    "    optimizer = optim.Adam(model.parameters(), lr=lr, weight_decay=l2_reg)\n",
    "    # scheduler = ExponentialLR(optimizer, gamma=0.9)\n",
    "    \n",
    "    acc, test_loss, train_loss = [], [], []\n",
    "    \n",
    "    for t in range(epochs):\n",
    "        print(f\"Epoch {t+1}\\n-------------------------------\")\n",
    "        tr = train(train_dataloader, model, loss_fn, optimizer)\n",
    "        a, t = test(test_dataloader, model, loss_fn)\n",
    "        acc.append(a); test_loss.append(t); train_loss.append(tr)\n",
    "    #    scheduler.step()\n",
    "    print(\"Done!\")\n",
    "\n",
    "    return model, acc, test_loss, train_loss"
   ]
  },
  {
   "cell_type": "code",
   "execution_count": 10,
   "id": "f83cc230-4291-43e4-bf7c-863020fd2f04",
   "metadata": {
    "scrolled": true
   },
   "outputs": [
    {
     "name": "stderr",
     "output_type": "stream",
     "text": [
      "c:\\Users\\diego\\miniconda3\\envs\\neuroai-2025\\Lib\\site-packages\\torch\\nn\\modules\\rnn.py:123: UserWarning: dropout option adds dropout after all but last recurrent layer, so non-zero dropout expects num_layers greater than 1, but got dropout=0.2 and num_layers=1\n",
      "  warnings.warn(\n"
     ]
    },
    {
     "name": "stdout",
     "output_type": "stream",
     "text": [
      "Epoch 1\n",
      "-------------------------------\n",
      "Test Error: \n",
      " Accuracy: 10.1%, Avg loss: 3.164992 \n",
      "\n",
      "Epoch 2\n",
      "-------------------------------\n",
      "Test Error: \n",
      " Accuracy: 9.3%, Avg loss: 3.203474 \n",
      "\n",
      "Epoch 3\n",
      "-------------------------------\n",
      "Test Error: \n",
      " Accuracy: 13.5%, Avg loss: 3.056723 \n",
      "\n",
      "Epoch 4\n",
      "-------------------------------\n",
      "Test Error: \n",
      " Accuracy: 13.0%, Avg loss: 2.856803 \n",
      "\n",
      "Epoch 5\n",
      "-------------------------------\n",
      "Test Error: \n",
      " Accuracy: 13.1%, Avg loss: 2.830077 \n",
      "\n",
      "Epoch 6\n",
      "-------------------------------\n",
      "Test Error: \n",
      " Accuracy: 13.5%, Avg loss: 2.819102 \n",
      "\n",
      "Epoch 7\n",
      "-------------------------------\n",
      "Test Error: \n",
      " Accuracy: 15.5%, Avg loss: 2.767105 \n",
      "\n",
      "Epoch 8\n",
      "-------------------------------\n",
      "Test Error: \n",
      " Accuracy: 15.8%, Avg loss: 2.754409 \n",
      "\n",
      "Epoch 9\n",
      "-------------------------------\n",
      "Test Error: \n",
      " Accuracy: 16.9%, Avg loss: 2.703421 \n",
      "\n",
      "Epoch 10\n",
      "-------------------------------\n",
      "Test Error: \n",
      " Accuracy: 16.1%, Avg loss: 2.719514 \n",
      "\n",
      "Done!\n"
     ]
    }
   ],
   "source": [
    "np.random.seed(0)\n",
    "\n",
    "_, acc, test_loss, train_loss = sample_and_train(20, 64, num_layers=1, dropout=0.2, l2_reg=0.00, lr=0.00125, batch_size=128, epochs=10)"
   ]
  },
  {
   "cell_type": "code",
   "execution_count": 15,
   "id": "038d3f32-13df-4cb0-a304-d47571fdb897",
   "metadata": {},
   "outputs": [
    {
     "data": {
      "image/png": "[encoded data removed]",
      "text/plain": [
       "<Figure size 640x480 with 1 Axes>"
      ]
     },
     "metadata": {},
     "output_type": "display_data"
    }
   ],
   "source": [
    "import matplotlib.pyplot as plt\n",
    "\n",
    "plt.plot(test_loss, color='b')\n",
    "plt.plot(train_loss, color='r')\n",
    "plt.legend(['test loss', 'train loss'])\n",
    "plt.xlabel('Epochs')\n",
    "plt.ylabel('Log accuracy')\n",
    "plt.yscale('log')"
   ]
  },
  {
   "cell_type": "code",
   "execution_count": null,
   "id": "4db3a50d-6c97-4eb5-850c-8cddc19cd456",
   "metadata": {
    "scrolled": true
   },
   "outputs": [
    {
     "name": "stderr",
     "output_type": "stream",
     "text": [
      "0it [00:00, ?it/s]"
     ]
    },
    {
     "name": "stdout",
     "output_type": "stream",
     "text": [
      "Computing with 64 hidden units, 0-back task\n"
     ]
    },
    {
     "name": "stderr",
     "output_type": "stream",
     "text": [
      "c:\\Users\\diego\\miniconda3\\envs\\neuroai-2025\\Lib\\site-packages\\torch\\nn\\modules\\rnn.py:123: UserWarning: dropout option adds dropout after all but last recurrent layer, so non-zero dropout expects num_layers greater than 1, but got dropout=0.2 and num_layers=1\n",
      "  warnings.warn(\n"
     ]
    },
    {
     "name": "stdout",
     "output_type": "stream",
     "text": [
      "Epoch 1\n",
      "-------------------------------\n",
      "Test Error: \n",
      " Accuracy: 94.9%, Avg loss: 0.338742 \n",
      "\n",
      "Epoch 2\n",
      "-------------------------------\n",
      "Test Error: \n",
      " Accuracy: 99.7%, Avg loss: 0.057996 \n",
      "\n",
      "Epoch 3\n",
      "-------------------------------\n",
      "Test Error: \n",
      " Accuracy: 100.0%, Avg loss: 0.014689 \n",
      "\n",
      "Epoch 4\n",
      "-------------------------------\n",
      "Test Error: \n",
      " Accuracy: 100.0%, Avg loss: 0.006074 \n",
      "\n",
      "Epoch 5\n",
      "-------------------------------\n",
      "Test Error: \n",
      " Accuracy: 96.2%, Avg loss: 0.157169 \n",
      "\n",
      "Epoch 6\n",
      "-------------------------------\n",
      "Test Error: \n",
      " Accuracy: 100.0%, Avg loss: 0.001789 \n",
      "\n",
      "Epoch 7\n",
      "-------------------------------\n",
      "Test Error: \n",
      " Accuracy: 100.0%, Avg loss: 0.001410 \n",
      "\n",
      "Epoch 8\n",
      "-------------------------------\n",
      "Test Error: \n",
      " Accuracy: 100.0%, Avg loss: 0.000834 \n",
      "\n",
      "Epoch 9\n",
      "-------------------------------\n",
      "Test Error: \n",
      " Accuracy: 100.0%, Avg loss: 0.000522 \n",
      "\n",
      "Epoch 10\n",
      "-------------------------------\n"
     ]
    },
    {
     "name": "stderr",
     "output_type": "stream",
     "text": [
      "1it [03:47, 227.11s/it]"
     ]
    },
    {
     "name": "stdout",
     "output_type": "stream",
     "text": [
      "Test Error: \n",
      " Accuracy: 100.0%, Avg loss: 0.000316 \n",
      "\n",
      "Done!\n",
      "Computing with 64 hidden units, 1-back task\n",
      "Epoch 1\n",
      "-------------------------------\n",
      "Test Error: \n",
      " Accuracy: 89.2%, Avg loss: 0.493132 \n",
      "\n",
      "Epoch 2\n",
      "-------------------------------\n",
      "Test Error: \n",
      " Accuracy: 99.1%, Avg loss: 0.114966 \n",
      "\n",
      "Epoch 3\n",
      "-------------------------------\n",
      "Test Error: \n",
      " Accuracy: 99.0%, Avg loss: 0.056452 \n",
      "\n",
      "Epoch 4\n",
      "-------------------------------\n",
      "Test Error: \n",
      " Accuracy: 98.2%, Avg loss: 0.065392 \n",
      "\n",
      "Epoch 5\n",
      "-------------------------------\n",
      "Test Error: \n",
      " Accuracy: 99.5%, Avg loss: 0.021664 \n",
      "\n",
      "Epoch 6\n",
      "-------------------------------\n",
      "Test Error: \n",
      " Accuracy: 96.5%, Avg loss: 0.138282 \n",
      "\n",
      "Epoch 7\n",
      "-------------------------------\n",
      "Test Error: \n",
      " Accuracy: 100.0%, Avg loss: 0.002196 \n",
      "\n",
      "Epoch 8\n",
      "-------------------------------\n",
      "Test Error: \n",
      " Accuracy: 100.0%, Avg loss: 0.001619 \n",
      "\n",
      "Epoch 9\n",
      "-------------------------------\n",
      "Test Error: \n",
      " Accuracy: 100.0%, Avg loss: 0.001041 \n",
      "\n",
      "Epoch 10\n",
      "-------------------------------\n"
     ]
    },
    {
     "name": "stderr",
     "output_type": "stream",
     "text": [
      "2it [07:23, 220.81s/it]"
     ]
    },
    {
     "name": "stdout",
     "output_type": "stream",
     "text": [
      "Test Error: \n",
      " Accuracy: 100.0%, Avg loss: 0.000708 \n",
      "\n",
      "Done!\n",
      "Computing with 64 hidden units, 2-back task\n",
      "Epoch 1\n",
      "-------------------------------\n",
      "Test Error: \n",
      " Accuracy: 25.5%, Avg loss: 1.640807 \n",
      "\n",
      "Epoch 2\n",
      "-------------------------------\n",
      "Test Error: \n",
      " Accuracy: 78.4%, Avg loss: 0.697460 \n",
      "\n",
      "Epoch 3\n",
      "-------------------------------\n",
      "Test Error: \n",
      " Accuracy: 92.8%, Avg loss: 0.339069 \n",
      "\n",
      "Epoch 4\n",
      "-------------------------------\n",
      "Test Error: \n",
      " Accuracy: 97.7%, Avg loss: 0.150152 \n",
      "\n",
      "Epoch 5\n",
      "-------------------------------\n"
     ]
    }
   ],
   "source": [
    "import itertools as itt\n",
    "from tqdm import tqdm\n",
    "\n",
    "list_hidden_units = [64, 128, 258]#, 512]\n",
    "list_n_back = np.arange(21)\n",
    "\n",
    "grid_dict = { \n",
    "    'acc' : [],\n",
    "    'test_loss' : [],\n",
    "    'train_loss': [],\n",
    "    'hidden_units' : [],\n",
    "    'n_back' : [],\n",
    "}\n",
    "\n",
    "for hidden_units, n_back in tqdm(itt.product(list_hidden_units, list_n_back)):\n",
    "\n",
    "    print(f\"Computing with {hidden_units} hidden units, {n_back}-back task\")\n",
    "    _, acc, test_loss, train_loss = sample_and_train(n_back, hidden_units, num_layers=1, lr=0.00125, batch_size=128, epochs=10)\n",
    "\n",
    "    grid_dict['acc'].append(np.array(acc))\n",
    "    grid_dict['test_loss'].append(np.array(test_loss))\n",
    "    grid_dict['train_loss'].append(np.array(train_loss))\n",
    "    grid_dict['hidden_units'].append(hidden_units)\n",
    "    grid_dict['n_back'].append(n_back)"
   ]
  },
  {
   "cell_type": "code",
   "execution_count": null,
   "id": "0f7bda65-8b7c-47f9-9bdd-d0b494f7cd66",
   "metadata": {},
   "outputs": [],
   "source": [
    "import pandas as pd\n",
    "\n",
    "grid_df = pd.DataFrame(grid_dict)\n",
    "\n",
    "grid_df.to_csv('n_back_acc.csv')\n",
    "grid_df.to_pickle('n_back_acc.pkl')"
   ]
  },
  {
   "cell_type": "code",
   "execution_count": null,
   "id": "d050df65-c373-48da-b158-5f14e3b96840",
   "metadata": {},
   "outputs": [
    {
     "name": "stderr",
     "output_type": "stream",
     "text": [
      "/home/ikarmann/anaconda3/lib/python3.11/site-packages/seaborn/_oldcore.py:1498: FutureWarning: is_categorical_dtype is deprecated and will be removed in a future version. Use isinstance(dtype, CategoricalDtype) instead\n",
      "  if pd.api.types.is_categorical_dtype(vector):\n",
      "/home/ikarmann/anaconda3/lib/python3.11/site-packages/seaborn/_oldcore.py:1498: FutureWarning: is_categorical_dtype is deprecated and will be removed in a future version. Use isinstance(dtype, CategoricalDtype) instead\n",
      "  if pd.api.types.is_categorical_dtype(vector):\n",
      "/home/ikarmann/anaconda3/lib/python3.11/site-packages/seaborn/_oldcore.py:1498: FutureWarning: is_categorical_dtype is deprecated and will be removed in a future version. Use isinstance(dtype, CategoricalDtype) instead\n",
      "  if pd.api.types.is_categorical_dtype(vector):\n",
      "/home/ikarmann/anaconda3/lib/python3.11/site-packages/seaborn/_oldcore.py:1498: FutureWarning: is_categorical_dtype is deprecated and will be removed in a future version. Use isinstance(dtype, CategoricalDtype) instead\n",
      "  if pd.api.types.is_categorical_dtype(vector):\n",
      "/home/ikarmann/anaconda3/lib/python3.11/site-packages/seaborn/_oldcore.py:1498: FutureWarning: is_categorical_dtype is deprecated and will be removed in a future version. Use isinstance(dtype, CategoricalDtype) instead\n",
      "  if pd.api.types.is_categorical_dtype(vector):\n",
      "/home/ikarmann/anaconda3/lib/python3.11/site-packages/seaborn/_oldcore.py:1119: FutureWarning: use_inf_as_na option is deprecated and will be removed in a future version. Convert inf values to NaN before operating instead.\n",
      "  with pd.option_context('mode.use_inf_as_na', True):\n",
      "/home/ikarmann/anaconda3/lib/python3.11/site-packages/seaborn/_oldcore.py:1119: FutureWarning: use_inf_as_na option is deprecated and will be removed in a future version. Convert inf values to NaN before operating instead.\n",
      "  with pd.option_context('mode.use_inf_as_na', True):\n"
     ]
    },
    {
     "data": {
      "text/plain": [
       "<Axes: xlabel='n_back', ylabel='acc_max'>"
      ]
     },
     "execution_count": 95,
     "metadata": {},
     "output_type": "execute_result"
    },
    {
     "data": {
      "image/png": "[encoded data removed]",
      "text/plain": [
       "<Figure size 640x480 with 1 Axes>"
      ]
     },
     "metadata": {},
     "output_type": "display_data"
    }
   ],
   "source": [
    "grid_df['acc_max'] = grid_df['acc'].apply(np.max)\n",
    "\n",
    "import seaborn as sns\n",
    "\n",
    "sns.lineplot(x='n_back', y='acc_max', hue=grid_df['hidden_units'].astype(str), data=grid_df)"
   ]
  },
  {
   "cell_type": "code",
   "execution_count": null,
   "id": "5f71ddcf-65fe-405c-8949-79f8f64bfbb9",
   "metadata": {},
   "outputs": [],
   "source": []
  }
 ],
 "metadata": {
  "kernelspec": {
   "display_name": "neuroai-2025",
   "language": "python",
   "name": "python3"
  },
  "language_info": {
   "codemirror_mode": {
    "name": "ipython",
    "version": 3
   },
   "file_extension": ".py",
   "mimetype": "text/x-python",
   "name": "python",
   "nbconvert_exporter": "python",
   "pygments_lexer": "ipython3",
   "version": "3.13.5"
  }
 },
 "nbformat": 4,
 "nbformat_minor": 5
}
